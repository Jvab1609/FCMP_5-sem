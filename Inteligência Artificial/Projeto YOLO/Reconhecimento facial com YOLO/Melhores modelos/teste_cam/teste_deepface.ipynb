{
 "cells": [
  {
   "cell_type": "markdown",
   "id": "b8716b7f",
   "metadata": {},
   "source": [
    "A única forma de fazermos isso funcionar foi voltando para a versão 3.9 do Python e reinstalando as bibliotecas.\n",
    "Outro adendo é que o modelo .pt deve ser colocado dentro da pasta yolov5, quando ela for clonada"
   ]
  },
  {
   "cell_type": "code",
   "execution_count": 26,
   "id": "f44c14e5",
   "metadata": {},
   "outputs": [
    {
     "name": "stdout",
     "output_type": "stream",
     "text": [
      "Collecting pip\n",
      "  Downloading pip-25.1.1-py3-none-any.whl (1.8 MB)\n",
      "Installing collected packages: pip\n",
      "  Attempting uninstall: pip\n",
      "    Found existing installation: pip 20.2.3\n",
      "    Uninstalling pip-20.2.3:\n",
      "      Successfully uninstalled pip-20.2.3\n",
      "Successfully installed pip-25.1.1\n"
     ]
    },
    {
     "name": "stderr",
     "output_type": "stream",
     "text": [
      "  WARNING: The scripts pip.exe, pip3.9.exe and pip3.exe are installed in 'C:\\Users\\jvalb\\AppData\\Local\\Programs\\Python\\Python39-32\\Scripts' which is not on PATH.\n",
      "  Consider adding this directory to PATH or, if you prefer to suppress this warning, use --no-warn-script-location.\n"
     ]
    }
   ],
   "source": [
    "!py -3.9 -m pip install --upgrade pip\n"
   ]
  },
  {
   "cell_type": "code",
   "execution_count": 1,
   "id": "6a607ae6",
   "metadata": {},
   "outputs": [
    {
     "name": "stdout",
     "output_type": "stream",
     "text": [
      "Collecting torch\n",
      "  Downloading torch-2.7.0-cp39-cp39-win_amd64.whl (212.4 MB)\n",
      "Collecting torchvision\n",
      "  Downloading torchvision-0.22.0-cp39-cp39-win_amd64.whl (1.7 MB)\n",
      "Collecting torchaudio\n",
      "  Downloading torchaudio-2.7.0-cp39-cp39-win_amd64.whl (2.5 MB)\n",
      "Requirement already satisfied: typing-extensions>=4.10.0 in c:\\users\\jvalb\\appdata\\roaming\\python\\python39\\site-packages (from torch) (4.13.2)\n",
      "Collecting filelock\n",
      "  Downloading filelock-3.18.0-py3-none-any.whl (16 kB)\n",
      "Collecting fsspec\n",
      "  Downloading fsspec-2025.3.2-py3-none-any.whl (194 kB)\n",
      "Collecting sympy>=1.13.3\n",
      "  Downloading sympy-1.14.0-py3-none-any.whl (6.3 MB)\n",
      "Collecting networkx\n",
      "  Downloading networkx-3.2.1-py3-none-any.whl (1.6 MB)\n",
      "Collecting jinja2\n",
      "  Downloading jinja2-3.1.6-py3-none-any.whl (134 kB)\n",
      "Collecting numpy\n",
      "  Downloading numpy-2.0.2-cp39-cp39-win_amd64.whl (15.9 MB)\n",
      "Collecting pillow!=8.3.*,>=5.3.0\n",
      "  Downloading pillow-11.2.1-cp39-cp39-win_amd64.whl (2.7 MB)\n",
      "Collecting mpmath<1.4,>=1.1.0\n",
      "  Downloading mpmath-1.3.0-py3-none-any.whl (536 kB)\n",
      "Collecting MarkupSafe>=2.0\n",
      "  Downloading MarkupSafe-3.0.2-cp39-cp39-win_amd64.whl (15 kB)\n",
      "Installing collected packages: filelock, fsspec, mpmath, sympy, networkx, MarkupSafe, jinja2, torch, numpy, pillow, torchvision, torchaudio\n",
      "Successfully installed MarkupSafe-3.0.2 filelock-3.18.0 fsspec-2025.3.2 jinja2-3.1.6 mpmath-1.3.0 networkx-3.2.1 numpy-2.0.2 pillow-11.2.1 sympy-1.14.0 torch-2.7.0 torchaudio-2.7.0 torchvision-0.22.0\n"
     ]
    },
    {
     "name": "stderr",
     "output_type": "stream",
     "text": [
      "  WARNING: The script isympy.exe is installed in 'C:\\Users\\jvalb\\AppData\\Local\\Programs\\Python\\Python39\\Scripts' which is not on PATH.\n",
      "  Consider adding this directory to PATH or, if you prefer to suppress this warning, use --no-warn-script-location.\n",
      "  WARNING: The scripts torchfrtrace.exe and torchrun.exe are installed in 'C:\\Users\\jvalb\\AppData\\Local\\Programs\\Python\\Python39\\Scripts' which is not on PATH.\n",
      "  Consider adding this directory to PATH or, if you prefer to suppress this warning, use --no-warn-script-location.\n",
      "  WARNING: The scripts f2py.exe and numpy-config.exe are installed in 'C:\\Users\\jvalb\\AppData\\Local\\Programs\\Python\\Python39\\Scripts' which is not on PATH.\n",
      "  Consider adding this directory to PATH or, if you prefer to suppress this warning, use --no-warn-script-location.\n",
      "WARNING: You are using pip version 20.2.3; however, version 25.1.1 is available.\n",
      "You should consider upgrading via the 'C:\\Users\\jvalb\\AppData\\Local\\Programs\\Python\\Python39\\python.exe -m pip install --upgrade pip' command.\n"
     ]
    }
   ],
   "source": [
    "!py -3.9 -m pip install torch torchvision torchaudio\n"
   ]
  },
  {
   "cell_type": "code",
   "execution_count": 2,
   "id": "68d78fbc",
   "metadata": {},
   "outputs": [
    {
     "name": "stdout",
     "output_type": "stream",
     "text": [
      "Collecting ultralytics\n",
      "  Downloading ultralytics-8.3.140-py3-none-any.whl (1.0 MB)\n",
      "Collecting opencv-python\n",
      "  Downloading opencv_python-4.11.0.86-cp37-abi3-win_amd64.whl (39.5 MB)\n",
      "Collecting scipy>=1.4.1\n",
      "  Downloading scipy-1.13.1-cp39-cp39-win_amd64.whl (46.2 MB)\n",
      "Requirement already satisfied: psutil in c:\\users\\jvalb\\appdata\\roaming\\python\\python39\\site-packages (from ultralytics) (7.0.0)\n",
      "Requirement already satisfied: torch>=1.8.0 in c:\\users\\jvalb\\appdata\\local\\programs\\python\\python39\\lib\\site-packages (from ultralytics) (2.7.0)\n",
      "Collecting matplotlib>=3.3.0\n",
      "  Downloading matplotlib-3.9.4-cp39-cp39-win_amd64.whl (7.8 MB)\n",
      "Collecting ultralytics-thop>=2.0.0\n",
      "  Downloading ultralytics_thop-2.0.14-py3-none-any.whl (26 kB)\n",
      "Collecting py-cpuinfo\n",
      "  Downloading py_cpuinfo-9.0.0-py3-none-any.whl (22 kB)\n",
      "Collecting pandas>=1.1.4\n",
      "  Downloading pandas-2.2.3-cp39-cp39-win_amd64.whl (11.6 MB)\n",
      "Requirement already satisfied: pillow>=7.1.2 in c:\\users\\jvalb\\appdata\\local\\programs\\python\\python39\\lib\\site-packages (from ultralytics) (11.2.1)\n",
      "Collecting requests>=2.23.0\n",
      "  Downloading requests-2.32.3-py3-none-any.whl (64 kB)\n",
      "Requirement already satisfied: torchvision>=0.9.0 in c:\\users\\jvalb\\appdata\\local\\programs\\python\\python39\\lib\\site-packages (from ultralytics) (0.22.0)\n",
      "Collecting pyyaml>=5.3.1\n",
      "  Downloading PyYAML-6.0.2-cp39-cp39-win_amd64.whl (162 kB)\n",
      "Collecting tqdm>=4.64.0\n",
      "  Downloading tqdm-4.67.1-py3-none-any.whl (78 kB)\n",
      "Requirement already satisfied: numpy>=1.23.0 in c:\\users\\jvalb\\appdata\\local\\programs\\python\\python39\\lib\\site-packages (from ultralytics) (2.0.2)\n",
      "Requirement already satisfied: networkx in c:\\users\\jvalb\\appdata\\local\\programs\\python\\python39\\lib\\site-packages (from torch>=1.8.0->ultralytics) (3.2.1)\n",
      "Requirement already satisfied: fsspec in c:\\users\\jvalb\\appdata\\local\\programs\\python\\python39\\lib\\site-packages (from torch>=1.8.0->ultralytics) (2025.3.2)\n",
      "Requirement already satisfied: sympy>=1.13.3 in c:\\users\\jvalb\\appdata\\local\\programs\\python\\python39\\lib\\site-packages (from torch>=1.8.0->ultralytics) (1.14.0)\n",
      "Requirement already satisfied: filelock in c:\\users\\jvalb\\appdata\\local\\programs\\python\\python39\\lib\\site-packages (from torch>=1.8.0->ultralytics) (3.18.0)\n",
      "Requirement already satisfied: typing-extensions>=4.10.0 in c:\\users\\jvalb\\appdata\\roaming\\python\\python39\\site-packages (from torch>=1.8.0->ultralytics) (4.13.2)\n",
      "Requirement already satisfied: jinja2 in c:\\users\\jvalb\\appdata\\local\\programs\\python\\python39\\lib\\site-packages (from torch>=1.8.0->ultralytics) (3.1.6)\n",
      "Requirement already satisfied: python-dateutil>=2.7 in c:\\users\\jvalb\\appdata\\roaming\\python\\python39\\site-packages (from matplotlib>=3.3.0->ultralytics) (2.9.0.post0)\n",
      "Collecting kiwisolver>=1.3.1\n",
      "  Downloading kiwisolver-1.4.7-cp39-cp39-win_amd64.whl (55 kB)\n",
      "Collecting cycler>=0.10\n",
      "  Downloading cycler-0.12.1-py3-none-any.whl (8.3 kB)\n",
      "Collecting importlib-resources>=3.2.0; python_version < \"3.10\"\n",
      "  Downloading importlib_resources-6.5.2-py3-none-any.whl (37 kB)\n",
      "Collecting pyparsing>=2.3.1\n",
      "  Downloading pyparsing-3.2.3-py3-none-any.whl (111 kB)\n",
      "Collecting fonttools>=4.22.0\n",
      "  Downloading fonttools-4.58.0-cp39-cp39-win_amd64.whl (1.5 MB)\n",
      "Requirement already satisfied: packaging>=20.0 in c:\\users\\jvalb\\appdata\\roaming\\python\\python39\\site-packages (from matplotlib>=3.3.0->ultralytics) (25.0)\n",
      "Collecting contourpy>=1.0.1\n",
      "  Downloading contourpy-1.3.0-cp39-cp39-win_amd64.whl (211 kB)\n",
      "Collecting pytz>=2020.1\n",
      "  Downloading pytz-2025.2-py2.py3-none-any.whl (509 kB)\n",
      "Collecting tzdata>=2022.7\n",
      "  Downloading tzdata-2025.2-py2.py3-none-any.whl (347 kB)\n",
      "Collecting charset-normalizer<4,>=2\n",
      "  Downloading charset_normalizer-3.4.2-cp39-cp39-win_amd64.whl (105 kB)\n",
      "Collecting idna<4,>=2.5\n",
      "  Downloading idna-3.10-py3-none-any.whl (70 kB)\n",
      "Collecting certifi>=2017.4.17\n",
      "  Downloading certifi-2025.4.26-py3-none-any.whl (159 kB)\n",
      "Collecting urllib3<3,>=1.21.1\n",
      "  Downloading urllib3-2.4.0-py3-none-any.whl (128 kB)\n",
      "Requirement already satisfied: colorama; platform_system == \"Windows\" in c:\\users\\jvalb\\appdata\\roaming\\python\\python39\\site-packages (from tqdm>=4.64.0->ultralytics) (0.4.6)\n",
      "Requirement already satisfied: mpmath<1.4,>=1.1.0 in c:\\users\\jvalb\\appdata\\local\\programs\\python\\python39\\lib\\site-packages (from sympy>=1.13.3->torch>=1.8.0->ultralytics) (1.3.0)\n",
      "Requirement already satisfied: MarkupSafe>=2.0 in c:\\users\\jvalb\\appdata\\local\\programs\\python\\python39\\lib\\site-packages (from jinja2->torch>=1.8.0->ultralytics) (3.0.2)\n",
      "Requirement already satisfied: six>=1.5 in c:\\users\\jvalb\\appdata\\roaming\\python\\python39\\site-packages (from python-dateutil>=2.7->matplotlib>=3.3.0->ultralytics) (1.17.0)\n",
      "Requirement already satisfied: zipp>=3.1.0; python_version < \"3.10\" in c:\\users\\jvalb\\appdata\\roaming\\python\\python39\\site-packages (from importlib-resources>=3.2.0; python_version < \"3.10\"->matplotlib>=3.3.0->ultralytics) (3.21.0)\n",
      "Installing collected packages: scipy, kiwisolver, cycler, importlib-resources, pyparsing, fonttools, contourpy, matplotlib, ultralytics-thop, py-cpuinfo, pytz, tzdata, pandas, charset-normalizer, idna, certifi, urllib3, requests, pyyaml, opencv-python, tqdm, ultralytics\n",
      "Successfully installed certifi-2025.4.26 charset-normalizer-3.4.2 contourpy-1.3.0 cycler-0.12.1 fonttools-4.58.0 idna-3.10 importlib-resources-6.5.2 kiwisolver-1.4.7 matplotlib-3.9.4 opencv-python-4.11.0.86 pandas-2.2.3 py-cpuinfo-9.0.0 pyparsing-3.2.3 pytz-2025.2 pyyaml-6.0.2 requests-2.32.3 scipy-1.13.1 tqdm-4.67.1 tzdata-2025.2 ultralytics-8.3.140 ultralytics-thop-2.0.14 urllib3-2.4.0\n"
     ]
    },
    {
     "name": "stderr",
     "output_type": "stream",
     "text": [
      "  WARNING: The scripts fonttools.exe, pyftmerge.exe, pyftsubset.exe and ttx.exe are installed in 'C:\\Users\\jvalb\\AppData\\Local\\Programs\\Python\\Python39\\Scripts' which is not on PATH.\n",
      "  Consider adding this directory to PATH or, if you prefer to suppress this warning, use --no-warn-script-location.\n",
      "  WARNING: The script cpuinfo.exe is installed in 'C:\\Users\\jvalb\\AppData\\Local\\Programs\\Python\\Python39\\Scripts' which is not on PATH.\n",
      "  Consider adding this directory to PATH or, if you prefer to suppress this warning, use --no-warn-script-location.\n",
      "  WARNING: The script normalizer.exe is installed in 'C:\\Users\\jvalb\\AppData\\Local\\Programs\\Python\\Python39\\Scripts' which is not on PATH.\n",
      "  Consider adding this directory to PATH or, if you prefer to suppress this warning, use --no-warn-script-location.\n",
      "  WARNING: The script tqdm.exe is installed in 'C:\\Users\\jvalb\\AppData\\Local\\Programs\\Python\\Python39\\Scripts' which is not on PATH.\n",
      "  Consider adding this directory to PATH or, if you prefer to suppress this warning, use --no-warn-script-location.\n",
      "  WARNING: The scripts ultralytics.exe and yolo.exe are installed in 'C:\\Users\\jvalb\\AppData\\Local\\Programs\\Python\\Python39\\Scripts' which is not on PATH.\n",
      "  Consider adding this directory to PATH or, if you prefer to suppress this warning, use --no-warn-script-location.\n",
      "WARNING: You are using pip version 20.2.3; however, version 25.1.1 is available.\n",
      "You should consider upgrading via the 'C:\\Users\\jvalb\\AppData\\Local\\Programs\\Python\\Python39\\python.exe -m pip install --upgrade pip' command.\n"
     ]
    }
   ],
   "source": [
    "!py -3.9 -m pip install ultralytics opencv-python"
   ]
  },
  {
   "cell_type": "code",
   "execution_count": 2,
   "id": "25c2d832",
   "metadata": {},
   "outputs": [
    {
     "name": "stdout",
     "output_type": "stream",
     "text": [
      "c:\\Users\\jvalb\\Documents\\GitHub\\FCMP_5-sem\\Inteligência Artificial\\Projeto YOLO\\Reconhecimento facial com YOLO\\Melhores modelos\\teste_cam\\yolov5\n"
     ]
    },
    {
     "name": "stderr",
     "output_type": "stream",
     "text": [
      "fatal: destination path 'yolov5' already exists and is not an empty directory.\n",
      "C:\\Users\\jvalb\\AppData\\Roaming\\Python\\Python39\\site-packages\\IPython\\core\\magics\\osm.py:417: UserWarning: using dhist requires you to install the `pickleshare` library.\n",
      "  self.shell.db['dhist'] = compress_dhist(dhist)[-100:]\n"
     ]
    }
   ],
   "source": [
    "!git clone https://github.com/ultralytics/yolov5\n",
    "%cd yolov5"
   ]
  },
  {
   "cell_type": "code",
   "execution_count": 3,
   "id": "8936e86f",
   "metadata": {},
   "outputs": [
    {
     "name": "stdout",
     "output_type": "stream",
     "text": [
      "Requirement already satisfied: gitpython>=3.1.30 in c:\\users\\jvalb\\appdata\\local\\programs\\python\\python39\\lib\\site-packages (from -r requirements.txt (line 5)) (3.1.44)\n",
      "Requirement already satisfied: matplotlib>=3.3 in c:\\users\\jvalb\\appdata\\local\\programs\\python\\python39\\lib\\site-packages (from -r requirements.txt (line 6)) (3.9.4)\n",
      "Requirement already satisfied: numpy>=1.23.5 in c:\\users\\jvalb\\appdata\\local\\programs\\python\\python39\\lib\\site-packages (from -r requirements.txt (line 7)) (2.0.2)\n",
      "Requirement already satisfied: opencv-python>=4.1.1 in c:\\users\\jvalb\\appdata\\local\\programs\\python\\python39\\lib\\site-packages (from -r requirements.txt (line 8)) (4.11.0.86)\n",
      "Requirement already satisfied: pillow>=10.3.0 in c:\\users\\jvalb\\appdata\\local\\programs\\python\\python39\\lib\\site-packages (from -r requirements.txt (line 9)) (11.2.1)\n",
      "Requirement already satisfied: psutil in c:\\users\\jvalb\\appdata\\roaming\\python\\python39\\site-packages (from -r requirements.txt (line 10)) (7.0.0)\n",
      "Requirement already satisfied: PyYAML>=5.3.1 in c:\\users\\jvalb\\appdata\\local\\programs\\python\\python39\\lib\\site-packages (from -r requirements.txt (line 11)) (6.0.2)\n",
      "Requirement already satisfied: requests>=2.32.2 in c:\\users\\jvalb\\appdata\\local\\programs\\python\\python39\\lib\\site-packages (from -r requirements.txt (line 12)) (2.32.3)\n",
      "Requirement already satisfied: scipy>=1.4.1 in c:\\users\\jvalb\\appdata\\local\\programs\\python\\python39\\lib\\site-packages (from -r requirements.txt (line 13)) (1.13.1)\n",
      "Requirement already satisfied: thop>=0.1.1 in c:\\users\\jvalb\\appdata\\local\\programs\\python\\python39\\lib\\site-packages (from -r requirements.txt (line 14)) (0.1.1.post2209072238)\n",
      "Requirement already satisfied: torch>=1.8.0 in c:\\users\\jvalb\\appdata\\local\\programs\\python\\python39\\lib\\site-packages (from -r requirements.txt (line 15)) (2.7.0)\n",
      "Requirement already satisfied: torchvision>=0.9.0 in c:\\users\\jvalb\\appdata\\local\\programs\\python\\python39\\lib\\site-packages (from -r requirements.txt (line 16)) (0.22.0)\n",
      "Requirement already satisfied: tqdm>=4.66.3 in c:\\users\\jvalb\\appdata\\local\\programs\\python\\python39\\lib\\site-packages (from -r requirements.txt (line 17)) (4.67.1)\n",
      "Requirement already satisfied: ultralytics>=8.2.34 in c:\\users\\jvalb\\appdata\\local\\programs\\python\\python39\\lib\\site-packages (from -r requirements.txt (line 18)) (8.3.140)\n",
      "Requirement already satisfied: pandas>=1.1.4 in c:\\users\\jvalb\\appdata\\local\\programs\\python\\python39\\lib\\site-packages (from -r requirements.txt (line 27)) (2.2.3)\n",
      "Requirement already satisfied: seaborn>=0.11.0 in c:\\users\\jvalb\\appdata\\local\\programs\\python\\python39\\lib\\site-packages (from -r requirements.txt (line 28)) (0.13.2)\n",
      "Requirement already satisfied: setuptools>=70.0.0 in c:\\users\\jvalb\\appdata\\local\\programs\\python\\python39\\lib\\site-packages (from -r requirements.txt (line 42)) (80.7.1)\n",
      "Requirement already satisfied: gitdb<5,>=4.0.1 in c:\\users\\jvalb\\appdata\\local\\programs\\python\\python39\\lib\\site-packages (from gitpython>=3.1.30->-r requirements.txt (line 5)) (4.0.12)\n",
      "Requirement already satisfied: packaging>=20.0 in c:\\users\\jvalb\\appdata\\roaming\\python\\python39\\site-packages (from matplotlib>=3.3->-r requirements.txt (line 6)) (25.0)\n",
      "Requirement already satisfied: cycler>=0.10 in c:\\users\\jvalb\\appdata\\local\\programs\\python\\python39\\lib\\site-packages (from matplotlib>=3.3->-r requirements.txt (line 6)) (0.12.1)\n",
      "Requirement already satisfied: contourpy>=1.0.1 in c:\\users\\jvalb\\appdata\\local\\programs\\python\\python39\\lib\\site-packages (from matplotlib>=3.3->-r requirements.txt (line 6)) (1.3.0)\n",
      "Requirement already satisfied: python-dateutil>=2.7 in c:\\users\\jvalb\\appdata\\roaming\\python\\python39\\site-packages (from matplotlib>=3.3->-r requirements.txt (line 6)) (2.9.0.post0)\n",
      "Requirement already satisfied: kiwisolver>=1.3.1 in c:\\users\\jvalb\\appdata\\local\\programs\\python\\python39\\lib\\site-packages (from matplotlib>=3.3->-r requirements.txt (line 6)) (1.4.7)\n",
      "Requirement already satisfied: importlib-resources>=3.2.0; python_version < \"3.10\" in c:\\users\\jvalb\\appdata\\local\\programs\\python\\python39\\lib\\site-packages (from matplotlib>=3.3->-r requirements.txt (line 6)) (6.5.2)\n",
      "Requirement already satisfied: fonttools>=4.22.0 in c:\\users\\jvalb\\appdata\\local\\programs\\python\\python39\\lib\\site-packages (from matplotlib>=3.3->-r requirements.txt (line 6)) (4.58.0)\n",
      "Requirement already satisfied: pyparsing>=2.3.1 in c:\\users\\jvalb\\appdata\\local\\programs\\python\\python39\\lib\\site-packages (from matplotlib>=3.3->-r requirements.txt (line 6)) (3.2.3)\n",
      "Requirement already satisfied: charset-normalizer<4,>=2 in c:\\users\\jvalb\\appdata\\local\\programs\\python\\python39\\lib\\site-packages (from requests>=2.32.2->-r requirements.txt (line 12)) (3.4.2)\n",
      "Requirement already satisfied: idna<4,>=2.5 in c:\\users\\jvalb\\appdata\\local\\programs\\python\\python39\\lib\\site-packages (from requests>=2.32.2->-r requirements.txt (line 12)) (3.10)\n",
      "Requirement already satisfied: certifi>=2017.4.17 in c:\\users\\jvalb\\appdata\\local\\programs\\python\\python39\\lib\\site-packages (from requests>=2.32.2->-r requirements.txt (line 12)) (2025.4.26)\n",
      "Requirement already satisfied: urllib3<3,>=1.21.1 in c:\\users\\jvalb\\appdata\\local\\programs\\python\\python39\\lib\\site-packages (from requests>=2.32.2->-r requirements.txt (line 12)) (2.4.0)\n",
      "Requirement already satisfied: sympy>=1.13.3 in c:\\users\\jvalb\\appdata\\local\\programs\\python\\python39\\lib\\site-packages (from torch>=1.8.0->-r requirements.txt (line 15)) (1.14.0)\n",
      "Requirement already satisfied: networkx in c:\\users\\jvalb\\appdata\\local\\programs\\python\\python39\\lib\\site-packages (from torch>=1.8.0->-r requirements.txt (line 15)) (3.2.1)\n",
      "Requirement already satisfied: jinja2 in c:\\users\\jvalb\\appdata\\local\\programs\\python\\python39\\lib\\site-packages (from torch>=1.8.0->-r requirements.txt (line 15)) (3.1.6)\n",
      "Requirement already satisfied: filelock in c:\\users\\jvalb\\appdata\\local\\programs\\python\\python39\\lib\\site-packages (from torch>=1.8.0->-r requirements.txt (line 15)) (3.18.0)\n",
      "Requirement already satisfied: typing-extensions>=4.10.0 in c:\\users\\jvalb\\appdata\\roaming\\python\\python39\\site-packages (from torch>=1.8.0->-r requirements.txt (line 15)) (4.13.2)\n",
      "Requirement already satisfied: fsspec in c:\\users\\jvalb\\appdata\\local\\programs\\python\\python39\\lib\\site-packages (from torch>=1.8.0->-r requirements.txt (line 15)) (2025.3.2)\n",
      "Requirement already satisfied: colorama; platform_system == \"Windows\" in c:\\users\\jvalb\\appdata\\roaming\\python\\python39\\site-packages (from tqdm>=4.66.3->-r requirements.txt (line 17)) (0.4.6)\n",
      "Requirement already satisfied: ultralytics-thop>=2.0.0 in c:\\users\\jvalb\\appdata\\local\\programs\\python\\python39\\lib\\site-packages (from ultralytics>=8.2.34->-r requirements.txt (line 18)) (2.0.14)\n",
      "Requirement already satisfied: py-cpuinfo in c:\\users\\jvalb\\appdata\\local\\programs\\python\\python39\\lib\\site-packages (from ultralytics>=8.2.34->-r requirements.txt (line 18)) (9.0.0)\n",
      "Requirement already satisfied: tzdata>=2022.7 in c:\\users\\jvalb\\appdata\\local\\programs\\python\\python39\\lib\\site-packages (from pandas>=1.1.4->-r requirements.txt (line 27)) (2025.2)\n",
      "Requirement already satisfied: pytz>=2020.1 in c:\\users\\jvalb\\appdata\\local\\programs\\python\\python39\\lib\\site-packages (from pandas>=1.1.4->-r requirements.txt (line 27)) (2025.2)\n",
      "Requirement already satisfied: smmap<6,>=3.0.1 in c:\\users\\jvalb\\appdata\\local\\programs\\python\\python39\\lib\\site-packages (from gitdb<5,>=4.0.1->gitpython>=3.1.30->-r requirements.txt (line 5)) (5.0.2)\n",
      "Requirement already satisfied: six>=1.5 in c:\\users\\jvalb\\appdata\\roaming\\python\\python39\\site-packages (from python-dateutil>=2.7->matplotlib>=3.3->-r requirements.txt (line 6)) (1.17.0)\n",
      "Requirement already satisfied: zipp>=3.1.0; python_version < \"3.10\" in c:\\users\\jvalb\\appdata\\roaming\\python\\python39\\site-packages (from importlib-resources>=3.2.0; python_version < \"3.10\"->matplotlib>=3.3->-r requirements.txt (line 6)) (3.21.0)\n",
      "Requirement already satisfied: mpmath<1.4,>=1.1.0 in c:\\users\\jvalb\\appdata\\local\\programs\\python\\python39\\lib\\site-packages (from sympy>=1.13.3->torch>=1.8.0->-r requirements.txt (line 15)) (1.3.0)\n",
      "Requirement already satisfied: MarkupSafe>=2.0 in c:\\users\\jvalb\\appdata\\local\\programs\\python\\python39\\lib\\site-packages (from jinja2->torch>=1.8.0->-r requirements.txt (line 15)) (3.0.2)\n"
     ]
    },
    {
     "name": "stderr",
     "output_type": "stream",
     "text": [
      "WARNING: You are using pip version 20.2.3; however, version 25.1.1 is available.\n",
      "You should consider upgrading via the 'C:\\Users\\jvalb\\AppData\\Local\\Programs\\Python\\Python39\\python.exe -m pip install --upgrade pip' command.\n"
     ]
    }
   ],
   "source": [
    "!py -3.9 -m pip install -r requirements.txt"
   ]
  },
  {
   "cell_type": "code",
   "execution_count": 11,
   "id": "ee99d20c",
   "metadata": {},
   "outputs": [
    {
     "name": "stdout",
     "output_type": "stream",
     "text": [
      "Requirement already satisfied: deepface in c:\\users\\jvalb\\appdata\\local\\programs\\python\\python39\\lib\\site-packages (0.0.93)\n",
      "Requirement already satisfied: numpy>=1.14.0 in c:\\users\\jvalb\\appdata\\local\\programs\\python\\python39\\lib\\site-packages (from deepface) (2.0.2)\n",
      "Requirement already satisfied: tqdm>=4.30.0 in c:\\users\\jvalb\\appdata\\local\\programs\\python\\python39\\lib\\site-packages (from deepface) (4.67.1)\n",
      "Requirement already satisfied: retina-face>=0.0.1 in c:\\users\\jvalb\\appdata\\local\\programs\\python\\python39\\lib\\site-packages (from deepface) (0.0.17)\n",
      "Requirement already satisfied: fire>=0.4.0 in c:\\users\\jvalb\\appdata\\local\\programs\\python\\python39\\lib\\site-packages (from deepface) (0.7.0)\n",
      "Requirement already satisfied: flask-cors>=4.0.1 in c:\\users\\jvalb\\appdata\\local\\programs\\python\\python39\\lib\\site-packages (from deepface) (6.0.0)\n",
      "Requirement already satisfied: Flask>=1.1.2 in c:\\users\\jvalb\\appdata\\local\\programs\\python\\python39\\lib\\site-packages (from deepface) (3.1.1)\n",
      "Requirement already satisfied: pandas>=0.23.4 in c:\\users\\jvalb\\appdata\\local\\programs\\python\\python39\\lib\\site-packages (from deepface) (2.2.3)\n",
      "Requirement already satisfied: tensorflow>=1.9.0 in c:\\users\\jvalb\\appdata\\local\\programs\\python\\python39\\lib\\site-packages (from deepface) (2.19.0)\n",
      "Requirement already satisfied: mtcnn>=0.1.0 in c:\\users\\jvalb\\appdata\\local\\programs\\python\\python39\\lib\\site-packages (from deepface) (0.1.1)\n",
      "Requirement already satisfied: keras>=2.2.0 in c:\\users\\jvalb\\appdata\\local\\programs\\python\\python39\\lib\\site-packages (from deepface) (3.10.0)\n",
      "Requirement already satisfied: gunicorn>=20.1.0 in c:\\users\\jvalb\\appdata\\local\\programs\\python\\python39\\lib\\site-packages (from deepface) (23.0.0)\n",
      "Requirement already satisfied: opencv-python>=4.5.5.64 in c:\\users\\jvalb\\appdata\\local\\programs\\python\\python39\\lib\\site-packages (from deepface) (4.11.0.86)\n",
      "Requirement already satisfied: gdown>=3.10.1 in c:\\users\\jvalb\\appdata\\local\\programs\\python\\python39\\lib\\site-packages (from deepface) (5.2.0)\n",
      "Requirement already satisfied: requests>=2.27.1 in c:\\users\\jvalb\\appdata\\local\\programs\\python\\python39\\lib\\site-packages (from deepface) (2.32.3)\n",
      "Requirement already satisfied: Pillow>=5.2.0 in c:\\users\\jvalb\\appdata\\local\\programs\\python\\python39\\lib\\site-packages (from deepface) (11.2.1)\n",
      "Requirement already satisfied: colorama; platform_system == \"Windows\" in c:\\users\\jvalb\\appdata\\roaming\\python\\python39\\site-packages (from tqdm>=4.30.0->deepface) (0.4.6)\n",
      "Requirement already satisfied: termcolor in c:\\users\\jvalb\\appdata\\local\\programs\\python\\python39\\lib\\site-packages (from fire>=0.4.0->deepface) (3.1.0)\n",
      "Requirement already satisfied: Werkzeug>=0.7 in c:\\users\\jvalb\\appdata\\local\\programs\\python\\python39\\lib\\site-packages (from flask-cors>=4.0.1->deepface) (3.1.3)\n",
      "Requirement already satisfied: markupsafe>=2.1.1 in c:\\users\\jvalb\\appdata\\local\\programs\\python\\python39\\lib\\site-packages (from Flask>=1.1.2->deepface) (3.0.2)\n",
      "Requirement already satisfied: blinker>=1.9.0 in c:\\users\\jvalb\\appdata\\local\\programs\\python\\python39\\lib\\site-packages (from Flask>=1.1.2->deepface) (1.9.0)\n",
      "Requirement already satisfied: click>=8.1.3 in c:\\users\\jvalb\\appdata\\local\\programs\\python\\python39\\lib\\site-packages (from Flask>=1.1.2->deepface) (8.1.8)\n",
      "Requirement already satisfied: jinja2>=3.1.2 in c:\\users\\jvalb\\appdata\\local\\programs\\python\\python39\\lib\\site-packages (from Flask>=1.1.2->deepface) (3.1.6)\n",
      "Requirement already satisfied: itsdangerous>=2.2.0 in c:\\users\\jvalb\\appdata\\local\\programs\\python\\python39\\lib\\site-packages (from Flask>=1.1.2->deepface) (2.2.0)\n",
      "Requirement already satisfied: importlib-metadata>=3.6.0; python_version < \"3.10\" in c:\\users\\jvalb\\appdata\\roaming\\python\\python39\\site-packages (from Flask>=1.1.2->deepface) (8.7.0)\n",
      "Requirement already satisfied: pytz>=2020.1 in c:\\users\\jvalb\\appdata\\local\\programs\\python\\python39\\lib\\site-packages (from pandas>=0.23.4->deepface) (2025.2)\n",
      "Requirement already satisfied: tzdata>=2022.7 in c:\\users\\jvalb\\appdata\\local\\programs\\python\\python39\\lib\\site-packages (from pandas>=0.23.4->deepface) (2025.2)\n",
      "Requirement already satisfied: python-dateutil>=2.8.2 in c:\\users\\jvalb\\appdata\\roaming\\python\\python39\\site-packages (from pandas>=0.23.4->deepface) (2.9.0.post0)\n",
      "Requirement already satisfied: grpcio<2.0,>=1.24.3 in c:\\users\\jvalb\\appdata\\local\\programs\\python\\python39\\lib\\site-packages (from tensorflow>=1.9.0->deepface) (1.71.0)\n",
      "Requirement already satisfied: libclang>=13.0.0 in c:\\users\\jvalb\\appdata\\local\\programs\\python\\python39\\lib\\site-packages (from tensorflow>=1.9.0->deepface) (18.1.1)\n",
      "Requirement already satisfied: h5py>=3.11.0 in c:\\users\\jvalb\\appdata\\local\\programs\\python\\python39\\lib\\site-packages (from tensorflow>=1.9.0->deepface) (3.13.0)\n",
      "Requirement already satisfied: tensorboard~=2.19.0 in c:\\users\\jvalb\\appdata\\local\\programs\\python\\python39\\lib\\site-packages (from tensorflow>=1.9.0->deepface) (2.19.0)\n",
      "Requirement already satisfied: wrapt>=1.11.0 in c:\\users\\jvalb\\appdata\\local\\programs\\python\\python39\\lib\\site-packages (from tensorflow>=1.9.0->deepface) (1.17.2)\n",
      "Requirement already satisfied: absl-py>=1.0.0 in c:\\users\\jvalb\\appdata\\local\\programs\\python\\python39\\lib\\site-packages (from tensorflow>=1.9.0->deepface) (2.2.2)\n",
      "Requirement already satisfied: setuptools in c:\\users\\jvalb\\appdata\\local\\programs\\python\\python39\\lib\\site-packages (from tensorflow>=1.9.0->deepface) (80.7.1)\n",
      "Requirement already satisfied: packaging in c:\\users\\jvalb\\appdata\\roaming\\python\\python39\\site-packages (from tensorflow>=1.9.0->deepface) (25.0)\n",
      "Requirement already satisfied: six>=1.12.0 in c:\\users\\jvalb\\appdata\\roaming\\python\\python39\\site-packages (from tensorflow>=1.9.0->deepface) (1.17.0)\n",
      "Requirement already satisfied: ml-dtypes<1.0.0,>=0.5.1 in c:\\users\\jvalb\\appdata\\local\\programs\\python\\python39\\lib\\site-packages (from tensorflow>=1.9.0->deepface) (0.5.1)\n",
      "Requirement already satisfied: tensorflow-io-gcs-filesystem>=0.23.1; python_version < \"3.12\" in c:\\users\\jvalb\\appdata\\local\\programs\\python\\python39\\lib\\site-packages (from tensorflow>=1.9.0->deepface) (0.31.0)\n",
      "Requirement already satisfied: gast!=0.5.0,!=0.5.1,!=0.5.2,>=0.2.1 in c:\\users\\jvalb\\appdata\\local\\programs\\python\\python39\\lib\\site-packages (from tensorflow>=1.9.0->deepface) (0.6.0)\n",
      "Requirement already satisfied: flatbuffers>=24.3.25 in c:\\users\\jvalb\\appdata\\local\\programs\\python\\python39\\lib\\site-packages (from tensorflow>=1.9.0->deepface) (25.2.10)\n",
      "Requirement already satisfied: typing-extensions>=3.6.6 in c:\\users\\jvalb\\appdata\\roaming\\python\\python39\\site-packages (from tensorflow>=1.9.0->deepface) (4.13.2)\n",
      "Requirement already satisfied: astunparse>=1.6.0 in c:\\users\\jvalb\\appdata\\local\\programs\\python\\python39\\lib\\site-packages (from tensorflow>=1.9.0->deepface) (1.6.3)\n",
      "Requirement already satisfied: google-pasta>=0.1.1 in c:\\users\\jvalb\\appdata\\local\\programs\\python\\python39\\lib\\site-packages (from tensorflow>=1.9.0->deepface) (0.2.0)\n",
      "Requirement already satisfied: protobuf!=4.21.0,!=4.21.1,!=4.21.2,!=4.21.3,!=4.21.4,!=4.21.5,<6.0.0dev,>=3.20.3 in c:\\users\\jvalb\\appdata\\local\\programs\\python\\python39\\lib\\site-packages (from tensorflow>=1.9.0->deepface) (5.29.4)\n",
      "Requirement already satisfied: opt-einsum>=2.3.2 in c:\\users\\jvalb\\appdata\\local\\programs\\python\\python39\\lib\\site-packages (from tensorflow>=1.9.0->deepface) (3.4.0)\n",
      "Requirement already satisfied: optree in c:\\users\\jvalb\\appdata\\local\\programs\\python\\python39\\lib\\site-packages (from keras>=2.2.0->deepface) (0.15.0)\n",
      "Requirement already satisfied: namex in c:\\users\\jvalb\\appdata\\local\\programs\\python\\python39\\lib\\site-packages (from keras>=2.2.0->deepface) (0.0.9)\n",
      "Requirement already satisfied: rich in c:\\users\\jvalb\\appdata\\local\\programs\\python\\python39\\lib\\site-packages (from keras>=2.2.0->deepface) (14.0.0)\n",
      "Requirement already satisfied: beautifulsoup4 in c:\\users\\jvalb\\appdata\\local\\programs\\python\\python39\\lib\\site-packages (from gdown>=3.10.1->deepface) (4.13.4)\n",
      "Requirement already satisfied: filelock in c:\\users\\jvalb\\appdata\\local\\programs\\python\\python39\\lib\\site-packages (from gdown>=3.10.1->deepface) (3.18.0)\n",
      "Requirement already satisfied: certifi>=2017.4.17 in c:\\users\\jvalb\\appdata\\local\\programs\\python\\python39\\lib\\site-packages (from requests>=2.27.1->deepface) (2025.4.26)\n",
      "Requirement already satisfied: charset-normalizer<4,>=2 in c:\\users\\jvalb\\appdata\\local\\programs\\python\\python39\\lib\\site-packages (from requests>=2.27.1->deepface) (3.4.2)\n",
      "Requirement already satisfied: urllib3<3,>=1.21.1 in c:\\users\\jvalb\\appdata\\local\\programs\\python\\python39\\lib\\site-packages (from requests>=2.27.1->deepface) (2.4.0)\n",
      "Requirement already satisfied: idna<4,>=2.5 in c:\\users\\jvalb\\appdata\\local\\programs\\python\\python39\\lib\\site-packages (from requests>=2.27.1->deepface) (3.10)\n",
      "Requirement already satisfied: zipp>=3.20 in c:\\users\\jvalb\\appdata\\roaming\\python\\python39\\site-packages (from importlib-metadata>=3.6.0; python_version < \"3.10\"->Flask>=1.1.2->deepface) (3.21.0)\n",
      "Requirement already satisfied: markdown>=2.6.8 in c:\\users\\jvalb\\appdata\\local\\programs\\python\\python39\\lib\\site-packages (from tensorboard~=2.19.0->tensorflow>=1.9.0->deepface) (3.8)\n",
      "Requirement already satisfied: tensorboard-data-server<0.8.0,>=0.7.0 in c:\\users\\jvalb\\appdata\\local\\programs\\python\\python39\\lib\\site-packages (from tensorboard~=2.19.0->tensorflow>=1.9.0->deepface) (0.7.2)\n",
      "Requirement already satisfied: wheel<1.0,>=0.23.0 in c:\\users\\jvalb\\appdata\\local\\programs\\python\\python39\\lib\\site-packages (from astunparse>=1.6.0->tensorflow>=1.9.0->deepface) (0.45.1)\n",
      "Requirement already satisfied: markdown-it-py>=2.2.0 in c:\\users\\jvalb\\appdata\\local\\programs\\python\\python39\\lib\\site-packages (from rich->keras>=2.2.0->deepface) (3.0.0)\n",
      "Requirement already satisfied: pygments<3.0.0,>=2.13.0 in c:\\users\\jvalb\\appdata\\roaming\\python\\python39\\site-packages (from rich->keras>=2.2.0->deepface) (2.19.1)\n",
      "Requirement already satisfied: soupsieve>1.2 in c:\\users\\jvalb\\appdata\\local\\programs\\python\\python39\\lib\\site-packages (from beautifulsoup4->gdown>=3.10.1->deepface) (2.7)\n",
      "Requirement already satisfied: mdurl~=0.1 in c:\\users\\jvalb\\appdata\\local\\programs\\python\\python39\\lib\\site-packages (from markdown-it-py>=2.2.0->rich->keras>=2.2.0->deepface) (0.1.2)\n"
     ]
    },
    {
     "name": "stderr",
     "output_type": "stream",
     "text": [
      "WARNING: You are using pip version 20.2.3; however, version 25.1.1 is available.\n",
      "You should consider upgrading via the 'C:\\Users\\jvalb\\AppData\\Local\\Programs\\Python\\Python39\\python.exe -m pip install --upgrade pip' command.\n"
     ]
    }
   ],
   "source": [
    "!py -3.9 -m pip install deepface\n"
   ]
  },
  {
   "cell_type": "code",
   "execution_count": 18,
   "id": "2cefe31c",
   "metadata": {},
   "outputs": [
    {
     "name": "stdout",
     "output_type": "stream",
     "text": [
      "Found existing installation: tensorflow 2.19.0\n",
      "Uninstalling tensorflow-2.19.0:\n",
      "  Successfully uninstalled tensorflow-2.19.0\n"
     ]
    },
    {
     "name": "stderr",
     "output_type": "stream",
     "text": [
      "WARNING: Skipping tensorflow-intel as it is not installed.\n"
     ]
    }
   ],
   "source": [
    "!py -3.9 -m pip uninstall tensorflow tensorflow-intel -y\n"
   ]
  },
  {
   "cell_type": "code",
   "execution_count": null,
   "id": "65637a7d",
   "metadata": {},
   "outputs": [
    {
     "name": "stdout",
     "output_type": "stream",
     "text": [
      "Collecting tensorflow\n",
      "  Using cached tensorflow-2.19.0-cp39-cp39-win_amd64.whl (375.7 MB)\n",
      "Requirement already satisfied: six>=1.12.0 in c:\\users\\jvalb\\appdata\\roaming\\python\\python39\\site-packages (from tensorflow) (1.17.0)\n",
      "Requirement already satisfied: requests<3,>=2.21.0 in c:\\users\\jvalb\\appdata\\local\\programs\\python\\python39\\lib\\site-packages (from tensorflow) (2.32.3)\n",
      "Requirement already satisfied: typing-extensions>=3.6.6 in c:\\users\\jvalb\\appdata\\roaming\\python\\python39\\site-packages (from tensorflow) (4.13.2)\n",
      "Collecting numpy<2.2.0,>=1.26.0\n",
      "  Using cached numpy-2.0.2-cp39-cp39-win_amd64.whl (15.9 MB)\n",
      "Requirement already satisfied: wrapt>=1.11.0 in c:\\users\\jvalb\\appdata\\local\\programs\\python\\python39\\lib\\site-packages (from tensorflow) (1.17.2)\n",
      "Requirement already satisfied: opt-einsum>=2.3.2 in c:\\users\\jvalb\\appdata\\local\\programs\\python\\python39\\lib\\site-packages (from tensorflow) (3.4.0)\n",
      "Requirement already satisfied: absl-py>=1.0.0 in c:\\users\\jvalb\\appdata\\local\\programs\\python\\python39\\lib\\site-packages (from tensorflow) (2.2.2)\n",
      "Requirement already satisfied: astunparse>=1.6.0 in c:\\users\\jvalb\\appdata\\local\\programs\\python\\python39\\lib\\site-packages (from tensorflow) (1.6.3)\n",
      "Requirement already satisfied: libclang>=13.0.0 in c:\\users\\jvalb\\appdata\\local\\programs\\python\\python39\\lib\\site-packages (from tensorflow) (18.1.1)\n",
      "Requirement already satisfied: setuptools in c:\\users\\jvalb\\appdata\\local\\programs\\python\\python39\\lib\\site-packages (from tensorflow) (80.7.1)\n",
      "Requirement already satisfied: flatbuffers>=24.3.25 in c:\\users\\jvalb\\appdata\\local\\programs\\python\\python39\\lib\\site-packages (from tensorflow) (25.2.10)\n",
      "Requirement already satisfied: ml-dtypes<1.0.0,>=0.5.1 in c:\\users\\jvalb\\appdata\\local\\programs\\python\\python39\\lib\\site-packages (from tensorflow) (0.5.1)\n",
      "Requirement already satisfied: h5py>=3.11.0 in c:\\users\\jvalb\\appdata\\local\\programs\\python\\python39\\lib\\site-packages (from tensorflow) (3.13.0)\n",
      "Requirement already satisfied: tensorflow-io-gcs-filesystem>=0.23.1; python_version < \"3.12\" in c:\\users\\jvalb\\appdata\\local\\programs\\python\\python39\\lib\\site-packages (from tensorflow) (0.31.0)\n",
      "Requirement already satisfied: protobuf!=4.21.0,!=4.21.1,!=4.21.2,!=4.21.3,!=4.21.4,!=4.21.5,<6.0.0dev,>=3.20.3 in c:\\users\\jvalb\\appdata\\local\\programs\\python\\python39\\lib\\site-packages (from tensorflow) (5.29.4)\n",
      "Requirement already satisfied: gast!=0.5.0,!=0.5.1,!=0.5.2,>=0.2.1 in c:\\users\\jvalb\\appdata\\local\\programs\\python\\python39\\lib\\site-packages (from tensorflow) (0.4.0)\n",
      "Requirement already satisfied: tensorboard~=2.19.0 in c:\\users\\jvalb\\appdata\\local\\programs\\python\\python39\\lib\\site-packages (from tensorflow) (2.19.0)\n",
      "Requirement already satisfied: keras>=3.5.0 in c:\\users\\jvalb\\appdata\\local\\programs\\python\\python39\\lib\\site-packages (from tensorflow) (3.10.0)\n",
      "Requirement already satisfied: termcolor>=1.1.0 in c:\\users\\jvalb\\appdata\\local\\programs\\python\\python39\\lib\\site-packages (from tensorflow) (3.1.0)\n",
      "Requirement already satisfied: google-pasta>=0.1.1 in c:\\users\\jvalb\\appdata\\local\\programs\\python\\python39\\lib\\site-packages (from tensorflow) (0.2.0)\n",
      "Requirement already satisfied: grpcio<2.0,>=1.24.3 in c:\\users\\jvalb\\appdata\\local\\programs\\python\\python39\\lib\\site-packages (from tensorflow) (1.71.0)\n",
      "Requirement already satisfied: packaging in c:\\users\\jvalb\\appdata\\roaming\\python\\python39\\site-packages (from tensorflow) (25.0)\n",
      "Requirement already satisfied: charset-normalizer<4,>=2 in c:\\users\\jvalb\\appdata\\local\\programs\\python\\python39\\lib\\site-packages (from requests<3,>=2.21.0->tensorflow) (3.4.2)\n",
      "Requirement already satisfied: urllib3<3,>=1.21.1 in c:\\users\\jvalb\\appdata\\local\\programs\\python\\python39\\lib\\site-packages (from requests<3,>=2.21.0->tensorflow) (2.4.0)\n",
      "Requirement already satisfied: idna<4,>=2.5 in c:\\users\\jvalb\\appdata\\local\\programs\\python\\python39\\lib\\site-packages (from requests<3,>=2.21.0->tensorflow) (3.10)\n",
      "Requirement already satisfied: certifi>=2017.4.17 in c:\\users\\jvalb\\appdata\\local\\programs\\python\\python39\\lib\\site-packages (from requests<3,>=2.21.0->tensorflow) (2025.4.26)\n",
      "Requirement already satisfied: wheel<1.0,>=0.23.0 in c:\\users\\jvalb\\appdata\\local\\programs\\python\\python39\\lib\\site-packages (from astunparse>=1.6.0->tensorflow) (0.45.1)\n",
      "Requirement already satisfied: markdown>=2.6.8 in c:\\users\\jvalb\\appdata\\local\\programs\\python\\python39\\lib\\site-packages (from tensorboard~=2.19.0->tensorflow) (3.8)\n",
      "Requirement already satisfied: tensorboard-data-server<0.8.0,>=0.7.0 in c:\\users\\jvalb\\appdata\\local\\programs\\python\\python39\\lib\\site-packages (from tensorboard~=2.19.0->tensorflow) (0.7.2)\n",
      "Requirement already satisfied: werkzeug>=1.0.1 in c:\\users\\jvalb\\appdata\\local\\programs\\python\\python39\\lib\\site-packages (from tensorboard~=2.19.0->tensorflow) (3.1.3)\n",
      "Requirement already satisfied: rich in c:\\users\\jvalb\\appdata\\local\\programs\\python\\python39\\lib\\site-packages (from keras>=3.5.0->tensorflow) (14.0.0)\n",
      "Requirement already satisfied: optree in c:\\users\\jvalb\\appdata\\local\\programs\\python\\python39\\lib\\site-packages (from keras>=3.5.0->tensorflow) (0.15.0)\n",
      "Requirement already satisfied: namex in c:\\users\\jvalb\\appdata\\local\\programs\\python\\python39\\lib\\site-packages (from keras>=3.5.0->tensorflow) (0.0.9)\n",
      "Requirement already satisfied: importlib-metadata>=4.4; python_version < \"3.10\" in c:\\users\\jvalb\\appdata\\roaming\\python\\python39\\site-packages (from markdown>=2.6.8->tensorboard~=2.19.0->tensorflow) (8.7.0)\n",
      "Requirement already satisfied: MarkupSafe>=2.1.1 in c:\\users\\jvalb\\appdata\\local\\programs\\python\\python39\\lib\\site-packages (from werkzeug>=1.0.1->tensorboard~=2.19.0->tensorflow) (3.0.2)\n",
      "Requirement already satisfied: markdown-it-py>=2.2.0 in c:\\users\\jvalb\\appdata\\local\\programs\\python\\python39\\lib\\site-packages (from rich->keras>=3.5.0->tensorflow) (3.0.0)\n",
      "Requirement already satisfied: pygments<3.0.0,>=2.13.0 in c:\\users\\jvalb\\appdata\\roaming\\python\\python39\\site-packages (from rich->keras>=3.5.0->tensorflow) (2.19.1)\n",
      "Requirement already satisfied: zipp>=3.20 in c:\\users\\jvalb\\appdata\\roaming\\python\\python39\\site-packages (from importlib-metadata>=4.4; python_version < \"3.10\"->markdown>=2.6.8->tensorboard~=2.19.0->tensorflow) (3.21.0)\n",
      "Requirement already satisfied: mdurl~=0.1 in c:\\users\\jvalb\\appdata\\local\\programs\\python\\python39\\lib\\site-packages (from markdown-it-py>=2.2.0->rich->keras>=3.5.0->tensorflow) (0.1.2)\n",
      "Installing collected packages: numpy, tensorflow\n",
      "  Attempting uninstall: numpy\n",
      "    Found existing installation: numpy 1.23.5\n",
      "    Uninstalling numpy-1.23.5:\n",
      "      Successfully uninstalled numpy-1.23.5\n",
      "Successfully installed numpy-2.0.2 tensorflow-2.19.0\n"
     ]
    },
    {
     "name": "stderr",
     "output_type": "stream",
     "text": [
      "  WARNING: The scripts f2py.exe and numpy-config.exe are installed in 'C:\\Users\\jvalb\\AppData\\Local\\Programs\\Python\\Python39\\Scripts' which is not on PATH.\n",
      "  Consider adding this directory to PATH or, if you prefer to suppress this warning, use --no-warn-script-location.\n",
      "  WARNING: The scripts import_pb_to_tensorboard.exe, saved_model_cli.exe, tensorboard.exe, tf_upgrade_v2.exe, tflite_convert.exe and toco.exe are installed in 'C:\\Users\\jvalb\\AppData\\Local\\Programs\\Python\\Python39\\Scripts' which is not on PATH.\n",
      "  Consider adding this directory to PATH or, if you prefer to suppress this warning, use --no-warn-script-location.\n",
      "WARNING: You are using pip version 20.2.3; however, version 25.1.1 is available.\n",
      "You should consider upgrading via the 'C:\\Users\\jvalb\\AppData\\Local\\Programs\\Python\\Python39\\python.exe -m pip install --upgrade pip' command.\n"
     ]
    }
   ],
   "source": [
    "!py -3.9 -m pip install tensorflow tensorflow-intel\n"
   ]
  },
  {
   "cell_type": "code",
   "execution_count": 19,
   "id": "7f0dabca",
   "metadata": {},
   "outputs": [
    {
     "name": "stdout",
     "output_type": "stream",
     "text": [
      "Collecting tensorflow==2.11.0\n",
      "  Using cached tensorflow-2.11.0-cp39-cp39-win_amd64.whl (1.9 kB)\n",
      "Collecting tensorflow-intel==2.11.0; platform_system == \"Windows\"\n",
      "  Using cached tensorflow_intel-2.11.0-cp39-cp39-win_amd64.whl (266.3 MB)\n",
      "Requirement already satisfied: tensorflow-estimator<2.12,>=2.11.0 in c:\\users\\jvalb\\appdata\\local\\programs\\python\\python39\\lib\\site-packages (from tensorflow-intel==2.11.0; platform_system == \"Windows\"->tensorflow==2.11.0) (2.11.0)\n",
      "Requirement already satisfied: absl-py>=1.0.0 in c:\\users\\jvalb\\appdata\\local\\programs\\python\\python39\\lib\\site-packages (from tensorflow-intel==2.11.0; platform_system == \"Windows\"->tensorflow==2.11.0) (2.2.2)\n",
      "Requirement already satisfied: wrapt>=1.11.0 in c:\\users\\jvalb\\appdata\\local\\programs\\python\\python39\\lib\\site-packages (from tensorflow-intel==2.11.0; platform_system == \"Windows\"->tensorflow==2.11.0) (1.17.2)\n",
      "Requirement already satisfied: termcolor>=1.1.0 in c:\\users\\jvalb\\appdata\\local\\programs\\python\\python39\\lib\\site-packages (from tensorflow-intel==2.11.0; platform_system == \"Windows\"->tensorflow==2.11.0) (3.1.0)\n",
      "Requirement already satisfied: gast<=0.4.0,>=0.2.1 in c:\\users\\jvalb\\appdata\\local\\programs\\python\\python39\\lib\\site-packages (from tensorflow-intel==2.11.0; platform_system == \"Windows\"->tensorflow==2.11.0) (0.4.0)\n",
      "Collecting tensorboard<2.12,>=2.11\n",
      "  Using cached tensorboard-2.11.2-py3-none-any.whl (6.0 MB)\n",
      "Requirement already satisfied: google-pasta>=0.1.1 in c:\\users\\jvalb\\appdata\\local\\programs\\python\\python39\\lib\\site-packages (from tensorflow-intel==2.11.0; platform_system == \"Windows\"->tensorflow==2.11.0) (0.2.0)\n",
      "Collecting keras<2.12,>=2.11.0\n",
      "  Using cached keras-2.11.0-py2.py3-none-any.whl (1.7 MB)\n",
      "Requirement already satisfied: flatbuffers>=2.0 in c:\\users\\jvalb\\appdata\\local\\programs\\python\\python39\\lib\\site-packages (from tensorflow-intel==2.11.0; platform_system == \"Windows\"->tensorflow==2.11.0) (25.2.10)\n",
      "Requirement already satisfied: opt-einsum>=2.3.2 in c:\\users\\jvalb\\appdata\\local\\programs\\python\\python39\\lib\\site-packages (from tensorflow-intel==2.11.0; platform_system == \"Windows\"->tensorflow==2.11.0) (3.4.0)\n",
      "Requirement already satisfied: packaging in c:\\users\\jvalb\\appdata\\roaming\\python\\python39\\site-packages (from tensorflow-intel==2.11.0; platform_system == \"Windows\"->tensorflow==2.11.0) (25.0)\n",
      "Requirement already satisfied: setuptools in c:\\users\\jvalb\\appdata\\local\\programs\\python\\python39\\lib\\site-packages (from tensorflow-intel==2.11.0; platform_system == \"Windows\"->tensorflow==2.11.0) (80.7.1)\n",
      "Requirement already satisfied: h5py>=2.9.0 in c:\\users\\jvalb\\appdata\\local\\programs\\python\\python39\\lib\\site-packages (from tensorflow-intel==2.11.0; platform_system == \"Windows\"->tensorflow==2.11.0) (3.13.0)\n",
      "Requirement already satisfied: numpy>=1.20 in c:\\users\\jvalb\\appdata\\local\\programs\\python\\python39\\lib\\site-packages (from tensorflow-intel==2.11.0; platform_system == \"Windows\"->tensorflow==2.11.0) (2.0.2)\n",
      "Requirement already satisfied: tensorflow-io-gcs-filesystem>=0.23.1; platform_machine != \"arm64\" or platform_system != \"Darwin\" in c:\\users\\jvalb\\appdata\\local\\programs\\python\\python39\\lib\\site-packages (from tensorflow-intel==2.11.0; platform_system == \"Windows\"->tensorflow==2.11.0) (0.31.0)\n",
      "Requirement already satisfied: six>=1.12.0 in c:\\users\\jvalb\\appdata\\local\\programs\\python\\python39\\lib\\site-packages (from tensorflow-intel==2.11.0; platform_system == \"Windows\"->tensorflow==2.11.0) (1.17.0)\n",
      "Requirement already satisfied: astunparse>=1.6.0 in c:\\users\\jvalb\\appdata\\local\\programs\\python\\python39\\lib\\site-packages (from tensorflow-intel==2.11.0; platform_system == \"Windows\"->tensorflow==2.11.0) (1.6.3)\n",
      "Collecting protobuf<3.20,>=3.9.2\n",
      "  Using cached protobuf-3.19.6-cp39-cp39-win_amd64.whl (895 kB)\n",
      "Requirement already satisfied: libclang>=13.0.0 in c:\\users\\jvalb\\appdata\\local\\programs\\python\\python39\\lib\\site-packages (from tensorflow-intel==2.11.0; platform_system == \"Windows\"->tensorflow==2.11.0) (18.1.1)\n",
      "Requirement already satisfied: grpcio<2.0,>=1.24.3 in c:\\users\\jvalb\\appdata\\local\\programs\\python\\python39\\lib\\site-packages (from tensorflow-intel==2.11.0; platform_system == \"Windows\"->tensorflow==2.11.0) (1.71.0)\n",
      "Requirement already satisfied: typing-extensions>=3.6.6 in c:\\users\\jvalb\\appdata\\roaming\\python\\python39\\site-packages (from tensorflow-intel==2.11.0; platform_system == \"Windows\"->tensorflow==2.11.0) (4.13.2)\n",
      "Requirement already satisfied: tensorboard-plugin-wit>=1.6.0 in c:\\users\\jvalb\\appdata\\local\\programs\\python\\python39\\lib\\site-packages (from tensorboard<2.12,>=2.11->tensorflow-intel==2.11.0; platform_system == \"Windows\"->tensorflow==2.11.0) (1.8.1)\n",
      "Requirement already satisfied: requests<3,>=2.21.0 in c:\\users\\jvalb\\appdata\\local\\programs\\python\\python39\\lib\\site-packages (from tensorboard<2.12,>=2.11->tensorflow-intel==2.11.0; platform_system == \"Windows\"->tensorflow==2.11.0) (2.32.3)\n",
      "Requirement already satisfied: werkzeug>=1.0.1 in c:\\users\\jvalb\\appdata\\local\\programs\\python\\python39\\lib\\site-packages (from tensorboard<2.12,>=2.11->tensorflow-intel==2.11.0; platform_system == \"Windows\"->tensorflow==2.11.0) (3.1.3)\n",
      "Collecting tensorboard-data-server<0.7.0,>=0.6.0\n",
      "  Using cached tensorboard_data_server-0.6.1-py3-none-any.whl (2.4 kB)\n",
      "Requirement already satisfied: google-auth-oauthlib<0.5,>=0.4.1 in c:\\users\\jvalb\\appdata\\local\\programs\\python\\python39\\lib\\site-packages (from tensorboard<2.12,>=2.11->tensorflow-intel==2.11.0; platform_system == \"Windows\"->tensorflow==2.11.0) (0.4.6)\n",
      "Requirement already satisfied: google-auth<3,>=1.6.3 in c:\\users\\jvalb\\appdata\\local\\programs\\python\\python39\\lib\\site-packages (from tensorboard<2.12,>=2.11->tensorflow-intel==2.11.0; platform_system == \"Windows\"->tensorflow==2.11.0) (2.40.1)\n",
      "Requirement already satisfied: markdown>=2.6.8 in c:\\users\\jvalb\\appdata\\local\\programs\\python\\python39\\lib\\site-packages (from tensorboard<2.12,>=2.11->tensorflow-intel==2.11.0; platform_system == \"Windows\"->tensorflow==2.11.0) (3.8)\n",
      "Requirement already satisfied: wheel>=0.26 in c:\\users\\jvalb\\appdata\\local\\programs\\python\\python39\\lib\\site-packages (from tensorboard<2.12,>=2.11->tensorflow-intel==2.11.0; platform_system == \"Windows\"->tensorflow==2.11.0) (0.45.1)\n",
      "Requirement already satisfied: urllib3<3,>=1.21.1 in c:\\users\\jvalb\\appdata\\local\\programs\\python\\python39\\lib\\site-packages (from requests<3,>=2.21.0->tensorboard<2.12,>=2.11->tensorflow-intel==2.11.0; platform_system == \"Windows\"->tensorflow==2.11.0) (2.4.0)\n",
      "Requirement already satisfied: idna<4,>=2.5 in c:\\users\\jvalb\\appdata\\local\\programs\\python\\python39\\lib\\site-packages (from requests<3,>=2.21.0->tensorboard<2.12,>=2.11->tensorflow-intel==2.11.0; platform_system == \"Windows\"->tensorflow==2.11.0) (3.10)\n",
      "Requirement already satisfied: certifi>=2017.4.17 in c:\\users\\jvalb\\appdata\\local\\programs\\python\\python39\\lib\\site-packages (from requests<3,>=2.21.0->tensorboard<2.12,>=2.11->tensorflow-intel==2.11.0; platform_system == \"Windows\"->tensorflow==2.11.0) (2025.4.26)\n",
      "Requirement already satisfied: charset-normalizer<4,>=2 in c:\\users\\jvalb\\appdata\\local\\programs\\python\\python39\\lib\\site-packages (from requests<3,>=2.21.0->tensorboard<2.12,>=2.11->tensorflow-intel==2.11.0; platform_system == \"Windows\"->tensorflow==2.11.0) (3.4.2)\n",
      "Requirement already satisfied: MarkupSafe>=2.1.1 in c:\\users\\jvalb\\appdata\\local\\programs\\python\\python39\\lib\\site-packages (from werkzeug>=1.0.1->tensorboard<2.12,>=2.11->tensorflow-intel==2.11.0; platform_system == \"Windows\"->tensorflow==2.11.0) (3.0.2)\n",
      "Requirement already satisfied: requests-oauthlib>=0.7.0 in c:\\users\\jvalb\\appdata\\local\\programs\\python\\python39\\lib\\site-packages (from google-auth-oauthlib<0.5,>=0.4.1->tensorboard<2.12,>=2.11->tensorflow-intel==2.11.0; platform_system == \"Windows\"->tensorflow==2.11.0) (2.0.0)\n",
      "Requirement already satisfied: cachetools<6.0,>=2.0.0 in c:\\users\\jvalb\\appdata\\local\\programs\\python\\python39\\lib\\site-packages (from google-auth<3,>=1.6.3->tensorboard<2.12,>=2.11->tensorflow-intel==2.11.0; platform_system == \"Windows\"->tensorflow==2.11.0) (5.5.2)\n",
      "Requirement already satisfied: pyasn1-modules>=0.2.1 in c:\\users\\jvalb\\appdata\\local\\programs\\python\\python39\\lib\\site-packages (from google-auth<3,>=1.6.3->tensorboard<2.12,>=2.11->tensorflow-intel==2.11.0; platform_system == \"Windows\"->tensorflow==2.11.0) (0.4.2)\n",
      "Requirement already satisfied: rsa<5,>=3.1.4 in c:\\users\\jvalb\\appdata\\local\\programs\\python\\python39\\lib\\site-packages (from google-auth<3,>=1.6.3->tensorboard<2.12,>=2.11->tensorflow-intel==2.11.0; platform_system == \"Windows\"->tensorflow==2.11.0) (4.9.1)\n",
      "Requirement already satisfied: importlib-metadata>=4.4; python_version < \"3.10\" in c:\\users\\jvalb\\appdata\\roaming\\python\\python39\\site-packages (from markdown>=2.6.8->tensorboard<2.12,>=2.11->tensorflow-intel==2.11.0; platform_system == \"Windows\"->tensorflow==2.11.0) (8.7.0)\n",
      "Requirement already satisfied: oauthlib>=3.0.0 in c:\\users\\jvalb\\appdata\\local\\programs\\python\\python39\\lib\\site-packages (from requests-oauthlib>=0.7.0->google-auth-oauthlib<0.5,>=0.4.1->tensorboard<2.12,>=2.11->tensorflow-intel==2.11.0; platform_system == \"Windows\"->tensorflow==2.11.0) (3.2.2)\n",
      "Requirement already satisfied: pyasn1<0.7.0,>=0.6.1 in c:\\users\\jvalb\\appdata\\local\\programs\\python\\python39\\lib\\site-packages (from pyasn1-modules>=0.2.1->google-auth<3,>=1.6.3->tensorboard<2.12,>=2.11->tensorflow-intel==2.11.0; platform_system == \"Windows\"->tensorflow==2.11.0) (0.6.1)\n",
      "Requirement already satisfied: zipp>=3.20 in c:\\users\\jvalb\\appdata\\roaming\\python\\python39\\site-packages (from importlib-metadata>=4.4; python_version < \"3.10\"->markdown>=2.6.8->tensorboard<2.12,>=2.11->tensorflow-intel==2.11.0; platform_system == \"Windows\"->tensorflow==2.11.0) (3.21.0)\n",
      "Installing collected packages: tensorboard-data-server, protobuf, tensorboard, keras, tensorflow-intel, tensorflow\n",
      "  Attempting uninstall: tensorboard-data-server\n",
      "    Found existing installation: tensorboard-data-server 0.7.2\n",
      "    Uninstalling tensorboard-data-server-0.7.2:\n",
      "      Successfully uninstalled tensorboard-data-server-0.7.2\n",
      "  Attempting uninstall: protobuf\n",
      "    Found existing installation: protobuf 5.29.4\n",
      "    Uninstalling protobuf-5.29.4:\n",
      "      Successfully uninstalled protobuf-5.29.4\n",
      "  Attempting uninstall: tensorboard\n",
      "    Found existing installation: tensorboard 2.19.0\n",
      "    Uninstalling tensorboard-2.19.0:\n",
      "      Successfully uninstalled tensorboard-2.19.0\n",
      "  Attempting uninstall: keras\n",
      "    Found existing installation: keras 3.10.0\n",
      "    Uninstalling keras-3.10.0:\n",
      "      Successfully uninstalled keras-3.10.0\n",
      "Successfully installed keras-2.11.0 protobuf-3.19.6 tensorboard-2.11.2 tensorboard-data-server-0.6.1 tensorflow-2.11.0 tensorflow-intel-2.11.0\n"
     ]
    },
    {
     "name": "stderr",
     "output_type": "stream",
     "text": [
      "  WARNING: The script tensorboard.exe is installed in 'C:\\Users\\jvalb\\AppData\\Local\\Programs\\Python\\Python39\\Scripts' which is not on PATH.\n",
      "  Consider adding this directory to PATH or, if you prefer to suppress this warning, use --no-warn-script-location.\n",
      "  WARNING: The scripts estimator_ckpt_converter.exe, import_pb_to_tensorboard.exe, saved_model_cli.exe, tensorboard.exe, tf_upgrade_v2.exe, tflite_convert.exe, toco.exe and toco_from_protos.exe are installed in 'C:\\Users\\jvalb\\AppData\\Local\\Programs\\Python\\Python39\\Scripts' which is not on PATH.\n",
      "  Consider adding this directory to PATH or, if you prefer to suppress this warning, use --no-warn-script-location.\n",
      "WARNING: You are using pip version 20.2.3; however, version 25.1.1 is available.\n",
      "You should consider upgrading via the 'C:\\Users\\jvalb\\AppData\\Local\\Programs\\Python\\Python39\\python.exe -m pip install --upgrade pip' command.\n"
     ]
    }
   ],
   "source": [
    "!py -3.9 -m pip install tensorflow==2.11.0 "
   ]
  },
  {
   "cell_type": "code",
   "execution_count": 20,
   "id": "2aff2306",
   "metadata": {},
   "outputs": [
    {
     "name": "stdout",
     "output_type": "stream",
     "text": [
      "Name: tensorflow\n",
      "Version: 2.11.0\n",
      "Summary: TensorFlow is an open source machine learning framework for everyone.\n",
      "Home-page: https://www.tensorflow.org/\n",
      "Author: Google Inc.\n",
      "Author-email: packages@tensorflow.org\n",
      "License: Apache 2.0\n",
      "Location: c:\\users\\jvalb\\appdata\\local\\programs\\python\\python39\\lib\\site-packages\n",
      "Requires: tensorflow-intel\n",
      "Required-by: retina-face, deepface\n"
     ]
    }
   ],
   "source": [
    "!py -3.9 -m pip show tensorflow\n"
   ]
  },
  {
   "cell_type": "code",
   "execution_count": 21,
   "id": "6ef5e243",
   "metadata": {},
   "outputs": [
    {
     "ename": "ImportError",
     "evalue": "DLL load failed while importing _pywrap_python_api_dispatcher: Não foi possível encontrar o procedimento especificado.",
     "output_type": "error",
     "traceback": [
      "\u001b[1;31m---------------------------------------------------------------------------\u001b[0m",
      "\u001b[1;31mImportError\u001b[0m                               Traceback (most recent call last)",
      "Cell \u001b[1;32mIn[21], line 6\u001b[0m\n\u001b[0;32m      4\u001b[0m \u001b[38;5;28;01mimport\u001b[39;00m\u001b[38;5;250m \u001b[39m\u001b[38;5;21;01msys\u001b[39;00m\n\u001b[0;32m      5\u001b[0m \u001b[38;5;28;01mimport\u001b[39;00m\u001b[38;5;250m \u001b[39m\u001b[38;5;21;01mnumpy\u001b[39;00m\u001b[38;5;250m \u001b[39m\u001b[38;5;28;01mas\u001b[39;00m\u001b[38;5;250m \u001b[39m\u001b[38;5;21;01mnp\u001b[39;00m\n\u001b[1;32m----> 6\u001b[0m \u001b[38;5;28;01mfrom\u001b[39;00m\u001b[38;5;250m \u001b[39m\u001b[38;5;21;01mdeepface\u001b[39;00m\u001b[38;5;250m \u001b[39m\u001b[38;5;28;01mimport\u001b[39;00m DeepFace\n\u001b[0;32m      8\u001b[0m \u001b[38;5;66;03m# Patch for Windows to avoid PosixPath issues\u001b[39;00m\n\u001b[0;32m      9\u001b[0m \u001b[38;5;28;01mif\u001b[39;00m sys\u001b[38;5;241m.\u001b[39mplatform \u001b[38;5;241m==\u001b[39m \u001b[38;5;124m\"\u001b[39m\u001b[38;5;124mwin32\u001b[39m\u001b[38;5;124m\"\u001b[39m:\n",
      "File \u001b[1;32mc:\\Users\\jvalb\\AppData\\Local\\Programs\\Python\\Python39\\lib\\site-packages\\deepface\\DeepFace.py:15\u001b[0m\n\u001b[0;32m     13\u001b[0m \u001b[38;5;28;01mimport\u001b[39;00m\u001b[38;5;250m \u001b[39m\u001b[38;5;21;01mnumpy\u001b[39;00m\u001b[38;5;250m \u001b[39m\u001b[38;5;28;01mas\u001b[39;00m\u001b[38;5;250m \u001b[39m\u001b[38;5;21;01mnp\u001b[39;00m\n\u001b[0;32m     14\u001b[0m \u001b[38;5;28;01mimport\u001b[39;00m\u001b[38;5;250m \u001b[39m\u001b[38;5;21;01mpandas\u001b[39;00m\u001b[38;5;250m \u001b[39m\u001b[38;5;28;01mas\u001b[39;00m\u001b[38;5;250m \u001b[39m\u001b[38;5;21;01mpd\u001b[39;00m\n\u001b[1;32m---> 15\u001b[0m \u001b[38;5;28;01mimport\u001b[39;00m\u001b[38;5;250m \u001b[39m\u001b[38;5;21;01mtensorflow\u001b[39;00m\u001b[38;5;250m \u001b[39m\u001b[38;5;28;01mas\u001b[39;00m\u001b[38;5;250m \u001b[39m\u001b[38;5;21;01mtf\u001b[39;00m\n\u001b[0;32m     17\u001b[0m \u001b[38;5;66;03m# package dependencies\u001b[39;00m\n\u001b[0;32m     18\u001b[0m \u001b[38;5;28;01mfrom\u001b[39;00m\u001b[38;5;250m \u001b[39m\u001b[38;5;21;01mdeepface\u001b[39;00m\u001b[38;5;21;01m.\u001b[39;00m\u001b[38;5;21;01mcommons\u001b[39;00m\u001b[38;5;250m \u001b[39m\u001b[38;5;28;01mimport\u001b[39;00m package_utils, folder_utils\n",
      "File \u001b[1;32mc:\\Users\\jvalb\\AppData\\Local\\Programs\\Python\\Python39\\lib\\site-packages\\tensorflow\\__init__.py:45\u001b[0m\n\u001b[0;32m     42\u001b[0m \u001b[38;5;28;01mfrom\u001b[39;00m\u001b[38;5;250m \u001b[39m\u001b[38;5;21;01mtensorflow\u001b[39;00m\u001b[38;5;21;01m.\u001b[39;00m\u001b[38;5;21;01mpython\u001b[39;00m\u001b[38;5;250m \u001b[39m\u001b[38;5;28;01mimport\u001b[39;00m tf2 \u001b[38;5;28;01mas\u001b[39;00m _tf2\n\u001b[0;32m     43\u001b[0m _tf2\u001b[38;5;241m.\u001b[39menable()\n\u001b[1;32m---> 45\u001b[0m \u001b[38;5;28;01mfrom\u001b[39;00m\u001b[38;5;250m \u001b[39m\u001b[38;5;21;01m.\u001b[39;00m\u001b[38;5;21;01m_api\u001b[39;00m\u001b[38;5;21;01m.\u001b[39;00m\u001b[38;5;21;01mv2\u001b[39;00m\u001b[38;5;250m \u001b[39m\u001b[38;5;28;01mimport\u001b[39;00m __internal__\n\u001b[0;32m     46\u001b[0m \u001b[38;5;28;01mfrom\u001b[39;00m\u001b[38;5;250m \u001b[39m\u001b[38;5;21;01m.\u001b[39;00m\u001b[38;5;21;01m_api\u001b[39;00m\u001b[38;5;21;01m.\u001b[39;00m\u001b[38;5;21;01mv2\u001b[39;00m\u001b[38;5;250m \u001b[39m\u001b[38;5;28;01mimport\u001b[39;00m __operators__\n\u001b[0;32m     47\u001b[0m \u001b[38;5;28;01mfrom\u001b[39;00m\u001b[38;5;250m \u001b[39m\u001b[38;5;21;01m.\u001b[39;00m\u001b[38;5;21;01m_api\u001b[39;00m\u001b[38;5;21;01m.\u001b[39;00m\u001b[38;5;21;01mv2\u001b[39;00m\u001b[38;5;250m \u001b[39m\u001b[38;5;28;01mimport\u001b[39;00m audio\n",
      "File \u001b[1;32mc:\\Users\\jvalb\\AppData\\Local\\Programs\\Python\\Python39\\lib\\site-packages\\tensorflow\\_api\\v2\\__internal__\\__init__.py:8\u001b[0m\n\u001b[0;32m      3\u001b[0m \u001b[38;5;124;03m\"\"\"Public API for tf.__internal__ namespace.\u001b[39;00m\n\u001b[0;32m      4\u001b[0m \u001b[38;5;124;03m\"\"\"\u001b[39;00m\n\u001b[0;32m      6\u001b[0m \u001b[38;5;28;01mimport\u001b[39;00m\u001b[38;5;250m \u001b[39m\u001b[38;5;21;01msys\u001b[39;00m\u001b[38;5;250m \u001b[39m\u001b[38;5;28;01mas\u001b[39;00m\u001b[38;5;250m \u001b[39m\u001b[38;5;21;01m_sys\u001b[39;00m\n\u001b[1;32m----> 8\u001b[0m \u001b[38;5;28;01mfrom\u001b[39;00m\u001b[38;5;250m \u001b[39m\u001b[38;5;21;01m.\u001b[39;00m\u001b[38;5;250m \u001b[39m\u001b[38;5;28;01mimport\u001b[39;00m autograph\n\u001b[0;32m      9\u001b[0m \u001b[38;5;28;01mfrom\u001b[39;00m\u001b[38;5;250m \u001b[39m\u001b[38;5;21;01m.\u001b[39;00m\u001b[38;5;250m \u001b[39m\u001b[38;5;28;01mimport\u001b[39;00m decorator\n\u001b[0;32m     10\u001b[0m \u001b[38;5;28;01mfrom\u001b[39;00m\u001b[38;5;250m \u001b[39m\u001b[38;5;21;01m.\u001b[39;00m\u001b[38;5;250m \u001b[39m\u001b[38;5;28;01mimport\u001b[39;00m dispatch\n",
      "File \u001b[1;32mc:\\Users\\jvalb\\AppData\\Local\\Programs\\Python\\Python39\\lib\\site-packages\\tensorflow\\_api\\v2\\__internal__\\autograph\\__init__.py:8\u001b[0m\n\u001b[0;32m      3\u001b[0m \u001b[38;5;124;03m\"\"\"Public API for tf.__internal__.autograph namespace.\u001b[39;00m\n\u001b[0;32m      4\u001b[0m \u001b[38;5;124;03m\"\"\"\u001b[39;00m\n\u001b[0;32m      6\u001b[0m \u001b[38;5;28;01mimport\u001b[39;00m\u001b[38;5;250m \u001b[39m\u001b[38;5;21;01msys\u001b[39;00m\u001b[38;5;250m \u001b[39m\u001b[38;5;28;01mas\u001b[39;00m\u001b[38;5;250m \u001b[39m\u001b[38;5;21;01m_sys\u001b[39;00m\n\u001b[1;32m----> 8\u001b[0m \u001b[38;5;28;01mfrom\u001b[39;00m\u001b[38;5;250m \u001b[39m\u001b[38;5;21;01mtensorflow\u001b[39;00m\u001b[38;5;21;01m.\u001b[39;00m\u001b[38;5;21;01mpython\u001b[39;00m\u001b[38;5;21;01m.\u001b[39;00m\u001b[38;5;21;01mautograph\u001b[39;00m\u001b[38;5;21;01m.\u001b[39;00m\u001b[38;5;21;01mcore\u001b[39;00m\u001b[38;5;21;01m.\u001b[39;00m\u001b[38;5;21;01mag_ctx\u001b[39;00m\u001b[38;5;250m \u001b[39m\u001b[38;5;28;01mimport\u001b[39;00m control_status_ctx\n\u001b[0;32m      9\u001b[0m \u001b[38;5;28;01mfrom\u001b[39;00m\u001b[38;5;250m \u001b[39m\u001b[38;5;21;01mtensorflow\u001b[39;00m\u001b[38;5;21;01m.\u001b[39;00m\u001b[38;5;21;01mpython\u001b[39;00m\u001b[38;5;21;01m.\u001b[39;00m\u001b[38;5;21;01mautograph\u001b[39;00m\u001b[38;5;21;01m.\u001b[39;00m\u001b[38;5;21;01mimpl\u001b[39;00m\u001b[38;5;21;01m.\u001b[39;00m\u001b[38;5;21;01mapi\u001b[39;00m\u001b[38;5;250m \u001b[39m\u001b[38;5;28;01mimport\u001b[39;00m tf_convert\n",
      "File \u001b[1;32mc:\\Users\\jvalb\\AppData\\Local\\Programs\\Python\\Python39\\lib\\site-packages\\tensorflow\\python\\autograph\\core\\ag_ctx.py:21\u001b[0m\n\u001b[0;32m     18\u001b[0m \u001b[38;5;28;01mimport\u001b[39;00m\u001b[38;5;250m \u001b[39m\u001b[38;5;21;01minspect\u001b[39;00m\n\u001b[0;32m     19\u001b[0m \u001b[38;5;28;01mimport\u001b[39;00m\u001b[38;5;250m \u001b[39m\u001b[38;5;21;01mthreading\u001b[39;00m\n\u001b[1;32m---> 21\u001b[0m \u001b[38;5;28;01mfrom\u001b[39;00m\u001b[38;5;250m \u001b[39m\u001b[38;5;21;01mtensorflow\u001b[39;00m\u001b[38;5;21;01m.\u001b[39;00m\u001b[38;5;21;01mpython\u001b[39;00m\u001b[38;5;21;01m.\u001b[39;00m\u001b[38;5;21;01mautograph\u001b[39;00m\u001b[38;5;21;01m.\u001b[39;00m\u001b[38;5;21;01mutils\u001b[39;00m\u001b[38;5;250m \u001b[39m\u001b[38;5;28;01mimport\u001b[39;00m ag_logging\n\u001b[0;32m     22\u001b[0m \u001b[38;5;28;01mfrom\u001b[39;00m\u001b[38;5;250m \u001b[39m\u001b[38;5;21;01mtensorflow\u001b[39;00m\u001b[38;5;21;01m.\u001b[39;00m\u001b[38;5;21;01mpython\u001b[39;00m\u001b[38;5;21;01m.\u001b[39;00m\u001b[38;5;21;01mutil\u001b[39;00m\u001b[38;5;21;01m.\u001b[39;00m\u001b[38;5;21;01mtf_export\u001b[39;00m\u001b[38;5;250m \u001b[39m\u001b[38;5;28;01mimport\u001b[39;00m tf_export\n\u001b[0;32m     25\u001b[0m stacks \u001b[38;5;241m=\u001b[39m threading\u001b[38;5;241m.\u001b[39mlocal()\n",
      "File \u001b[1;32mc:\\Users\\jvalb\\AppData\\Local\\Programs\\Python\\Python39\\lib\\site-packages\\tensorflow\\python\\autograph\\utils\\__init__.py:17\u001b[0m\n\u001b[0;32m      1\u001b[0m \u001b[38;5;66;03m# Copyright 2016 The TensorFlow Authors. All Rights Reserved.\u001b[39;00m\n\u001b[0;32m      2\u001b[0m \u001b[38;5;66;03m#\u001b[39;00m\n\u001b[0;32m      3\u001b[0m \u001b[38;5;66;03m# Licensed under the Apache License, Version 2.0 (the \"License\");\u001b[39;00m\n\u001b[1;32m   (...)\u001b[0m\n\u001b[0;32m     13\u001b[0m \u001b[38;5;66;03m# limitations under the License.\u001b[39;00m\n\u001b[0;32m     14\u001b[0m \u001b[38;5;66;03m# ==============================================================================\u001b[39;00m\n\u001b[0;32m     15\u001b[0m \u001b[38;5;124;03m\"\"\"Utility module that contains APIs usable in the generated code.\"\"\"\u001b[39;00m\n\u001b[1;32m---> 17\u001b[0m \u001b[38;5;28;01mfrom\u001b[39;00m\u001b[38;5;250m \u001b[39m\u001b[38;5;21;01mtensorflow\u001b[39;00m\u001b[38;5;21;01m.\u001b[39;00m\u001b[38;5;21;01mpython\u001b[39;00m\u001b[38;5;21;01m.\u001b[39;00m\u001b[38;5;21;01mautograph\u001b[39;00m\u001b[38;5;21;01m.\u001b[39;00m\u001b[38;5;21;01mutils\u001b[39;00m\u001b[38;5;21;01m.\u001b[39;00m\u001b[38;5;21;01mcontext_managers\u001b[39;00m\u001b[38;5;250m \u001b[39m\u001b[38;5;28;01mimport\u001b[39;00m control_dependency_on_returns\n\u001b[0;32m     18\u001b[0m \u001b[38;5;28;01mfrom\u001b[39;00m\u001b[38;5;250m \u001b[39m\u001b[38;5;21;01mtensorflow\u001b[39;00m\u001b[38;5;21;01m.\u001b[39;00m\u001b[38;5;21;01mpython\u001b[39;00m\u001b[38;5;21;01m.\u001b[39;00m\u001b[38;5;21;01mautograph\u001b[39;00m\u001b[38;5;21;01m.\u001b[39;00m\u001b[38;5;21;01mutils\u001b[39;00m\u001b[38;5;21;01m.\u001b[39;00m\u001b[38;5;21;01mmisc\u001b[39;00m\u001b[38;5;250m \u001b[39m\u001b[38;5;28;01mimport\u001b[39;00m alias_tensors\n\u001b[0;32m     19\u001b[0m \u001b[38;5;28;01mfrom\u001b[39;00m\u001b[38;5;250m \u001b[39m\u001b[38;5;21;01mtensorflow\u001b[39;00m\u001b[38;5;21;01m.\u001b[39;00m\u001b[38;5;21;01mpython\u001b[39;00m\u001b[38;5;21;01m.\u001b[39;00m\u001b[38;5;21;01mautograph\u001b[39;00m\u001b[38;5;21;01m.\u001b[39;00m\u001b[38;5;21;01mutils\u001b[39;00m\u001b[38;5;21;01m.\u001b[39;00m\u001b[38;5;21;01mpy_func\u001b[39;00m\u001b[38;5;250m \u001b[39m\u001b[38;5;28;01mimport\u001b[39;00m wrap_py_func\n",
      "File \u001b[1;32mc:\\Users\\jvalb\\AppData\\Local\\Programs\\Python\\Python39\\lib\\site-packages\\tensorflow\\python\\autograph\\utils\\context_managers.py:19\u001b[0m\n\u001b[0;32m     15\u001b[0m \u001b[38;5;124;03m\"\"\"Various context managers.\"\"\"\u001b[39;00m\n\u001b[0;32m     17\u001b[0m \u001b[38;5;28;01mimport\u001b[39;00m\u001b[38;5;250m \u001b[39m\u001b[38;5;21;01mcontextlib\u001b[39;00m\n\u001b[1;32m---> 19\u001b[0m \u001b[38;5;28;01mfrom\u001b[39;00m\u001b[38;5;250m \u001b[39m\u001b[38;5;21;01mtensorflow\u001b[39;00m\u001b[38;5;21;01m.\u001b[39;00m\u001b[38;5;21;01mpython\u001b[39;00m\u001b[38;5;21;01m.\u001b[39;00m\u001b[38;5;21;01mframework\u001b[39;00m\u001b[38;5;250m \u001b[39m\u001b[38;5;28;01mimport\u001b[39;00m ops\n\u001b[0;32m     20\u001b[0m \u001b[38;5;28;01mfrom\u001b[39;00m\u001b[38;5;250m \u001b[39m\u001b[38;5;21;01mtensorflow\u001b[39;00m\u001b[38;5;21;01m.\u001b[39;00m\u001b[38;5;21;01mpython\u001b[39;00m\u001b[38;5;21;01m.\u001b[39;00m\u001b[38;5;21;01mops\u001b[39;00m\u001b[38;5;250m \u001b[39m\u001b[38;5;28;01mimport\u001b[39;00m tensor_array_ops\n\u001b[0;32m     23\u001b[0m \u001b[38;5;28;01mdef\u001b[39;00m\u001b[38;5;250m \u001b[39m\u001b[38;5;21mcontrol_dependency_on_returns\u001b[39m(return_value):\n",
      "File \u001b[1;32mc:\\Users\\jvalb\\AppData\\Local\\Programs\\Python\\Python39\\lib\\site-packages\\tensorflow\\python\\framework\\ops.py:67\u001b[0m\n\u001b[0;32m     65\u001b[0m \u001b[38;5;28;01mfrom\u001b[39;00m\u001b[38;5;250m \u001b[39m\u001b[38;5;21;01mtensorflow\u001b[39;00m\u001b[38;5;21;01m.\u001b[39;00m\u001b[38;5;21;01mpython\u001b[39;00m\u001b[38;5;21;01m.\u001b[39;00m\u001b[38;5;21;01mutil\u001b[39;00m\u001b[38;5;250m \u001b[39m\u001b[38;5;28;01mimport\u001b[39;00m decorator_utils\n\u001b[0;32m     66\u001b[0m \u001b[38;5;28;01mfrom\u001b[39;00m\u001b[38;5;250m \u001b[39m\u001b[38;5;21;01mtensorflow\u001b[39;00m\u001b[38;5;21;01m.\u001b[39;00m\u001b[38;5;21;01mpython\u001b[39;00m\u001b[38;5;21;01m.\u001b[39;00m\u001b[38;5;21;01mutil\u001b[39;00m\u001b[38;5;250m \u001b[39m\u001b[38;5;28;01mimport\u001b[39;00m deprecation\n\u001b[1;32m---> 67\u001b[0m \u001b[38;5;28;01mfrom\u001b[39;00m\u001b[38;5;250m \u001b[39m\u001b[38;5;21;01mtensorflow\u001b[39;00m\u001b[38;5;21;01m.\u001b[39;00m\u001b[38;5;21;01mpython\u001b[39;00m\u001b[38;5;21;01m.\u001b[39;00m\u001b[38;5;21;01mutil\u001b[39;00m\u001b[38;5;250m \u001b[39m\u001b[38;5;28;01mimport\u001b[39;00m dispatch\n\u001b[0;32m     68\u001b[0m \u001b[38;5;28;01mfrom\u001b[39;00m\u001b[38;5;250m \u001b[39m\u001b[38;5;21;01mtensorflow\u001b[39;00m\u001b[38;5;21;01m.\u001b[39;00m\u001b[38;5;21;01mpython\u001b[39;00m\u001b[38;5;21;01m.\u001b[39;00m\u001b[38;5;21;01mutil\u001b[39;00m\u001b[38;5;250m \u001b[39m\u001b[38;5;28;01mimport\u001b[39;00m function_utils\n\u001b[0;32m     69\u001b[0m \u001b[38;5;28;01mfrom\u001b[39;00m\u001b[38;5;250m \u001b[39m\u001b[38;5;21;01mtensorflow\u001b[39;00m\u001b[38;5;21;01m.\u001b[39;00m\u001b[38;5;21;01mpython\u001b[39;00m\u001b[38;5;21;01m.\u001b[39;00m\u001b[38;5;21;01mutil\u001b[39;00m\u001b[38;5;250m \u001b[39m\u001b[38;5;28;01mimport\u001b[39;00m lock_util\n",
      "File \u001b[1;32mc:\\Users\\jvalb\\AppData\\Local\\Programs\\Python\\Python39\\lib\\site-packages\\tensorflow\\python\\util\\dispatch.py:66\u001b[0m\n\u001b[0;32m     63\u001b[0m \u001b[38;5;28;01mimport\u001b[39;00m\u001b[38;5;250m \u001b[39m\u001b[38;5;21;01mitertools\u001b[39;00m\n\u001b[0;32m     64\u001b[0m \u001b[38;5;28;01mimport\u001b[39;00m\u001b[38;5;250m \u001b[39m\u001b[38;5;21;01mtyping\u001b[39;00m  \u001b[38;5;66;03m# pylint: disable=unused-import (used in doctests)\u001b[39;00m\n\u001b[1;32m---> 66\u001b[0m \u001b[38;5;28;01mfrom\u001b[39;00m\u001b[38;5;250m \u001b[39m\u001b[38;5;21;01mtensorflow\u001b[39;00m\u001b[38;5;21;01m.\u001b[39;00m\u001b[38;5;21;01mpython\u001b[39;00m\u001b[38;5;21;01m.\u001b[39;00m\u001b[38;5;21;01mframework\u001b[39;00m\u001b[38;5;250m \u001b[39m\u001b[38;5;28;01mimport\u001b[39;00m _pywrap_python_api_dispatcher \u001b[38;5;28;01mas\u001b[39;00m _api_dispatcher\n\u001b[0;32m     67\u001b[0m \u001b[38;5;28;01mfrom\u001b[39;00m\u001b[38;5;250m \u001b[39m\u001b[38;5;21;01mtensorflow\u001b[39;00m\u001b[38;5;21;01m.\u001b[39;00m\u001b[38;5;21;01mpython\u001b[39;00m\u001b[38;5;21;01m.\u001b[39;00m\u001b[38;5;21;01mframework\u001b[39;00m\u001b[38;5;250m \u001b[39m\u001b[38;5;28;01mimport\u001b[39;00m ops\n\u001b[0;32m     68\u001b[0m \u001b[38;5;28;01mfrom\u001b[39;00m\u001b[38;5;250m \u001b[39m\u001b[38;5;21;01mtensorflow\u001b[39;00m\u001b[38;5;21;01m.\u001b[39;00m\u001b[38;5;21;01mpython\u001b[39;00m\u001b[38;5;21;01m.\u001b[39;00m\u001b[38;5;21;01mutil\u001b[39;00m\u001b[38;5;250m \u001b[39m\u001b[38;5;28;01mimport\u001b[39;00m tf_decorator\n",
      "\u001b[1;31mImportError\u001b[0m: DLL load failed while importing _pywrap_python_api_dispatcher: Não foi possível encontrar o procedimento especificado."
     ]
    }
   ],
   "source": [
    "import torch\n",
    "import cv2\n",
    "import pathlib\n",
    "import sys\n",
    "import numpy as np\n",
    "from deepface import DeepFace\n",
    "\n",
    "# Patch for Windows to avoid PosixPath issues\n",
    "if sys.platform == \"win32\":\n",
    "    pathlib.PosixPath = pathlib.WindowsPath\n",
    "\n",
    "# Load your YOLOv5 model\n",
    "model_path = 'modelo_500img-640px.pt'  # Replace with your model\n",
    "model = torch.hub.load('ultralytics/yolov5', 'custom', path=model_path, source='github')\n",
    "\n",
    "# Start webcam\n",
    "cap = cv2.VideoCapture(0)\n",
    "if not cap.isOpened():\n",
    "    print(\"Could not open webcam\")\n",
    "    sys.exit()\n",
    "\n",
    "while True:\n",
    "    ret, frame = cap.read()\n",
    "    if not ret:\n",
    "        print(\"Failed to grab frame\")\n",
    "        break\n",
    "\n",
    "    # Run YOLO detection\n",
    "    results = model(frame)\n",
    "    detections = results.xyxy[0]  # [x1, y1, x2, y2, conf, class]\n",
    "\n",
    "    for *box, conf, cls in detections.tolist():\n",
    "        x1, y1, x2, y2 = map(int, box)\n",
    "        cropped = frame[y1:y2, x1:x2]\n",
    "\n",
    "        # Run DeepFace on detected region\n",
    "        try:\n",
    "            analysis = DeepFace.analyze(\n",
    "                img_path=cropped,\n",
    "                actions=['age', 'gender', 'emotion'],\n",
    "                enforce_detection=False\n",
    "            )[0]\n",
    "            label = f\"{analysis['dominant_emotion']}, {analysis['gender']}, {analysis['age']}\"\n",
    "        except Exception as e:\n",
    "            label = \"Face not recognized\"\n",
    "\n",
    "        # Draw bounding box and label\n",
    "        cv2.rectangle(frame, (x1, y1), (x2, y2), (0, 255, 0), 2)\n",
    "        cv2.putText(frame, label, (x1, y1 - 10),\n",
    "                    cv2.FONT_HERSHEY_SIMPLEX, 0.5, (0, 255, 0), 2)\n",
    "\n",
    "    # Show frame\n",
    "    cv2.imshow('YOLO + DeepFace', frame)\n",
    "\n",
    "    # Press 'q' to quit\n",
    "    if cv2.waitKey(1) & 0xFF == ord('q'):\n",
    "        break\n",
    "\n",
    "cap.release()\n",
    "cv2.destroyAllWindows()\n"
   ]
  }
 ],
 "metadata": {
  "kernelspec": {
   "display_name": "Python 3",
   "language": "python",
   "name": "python3"
  },
  "language_info": {
   "codemirror_mode": {
    "name": "ipython",
    "version": 3
   },
   "file_extension": ".py",
   "mimetype": "text/x-python",
   "name": "python",
   "nbconvert_exporter": "python",
   "pygments_lexer": "ipython3",
   "version": "3.9.0"
  }
 },
 "nbformat": 4,
 "nbformat_minor": 5
}
